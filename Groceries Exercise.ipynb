{
  "nbformat": 4,
  "nbformat_minor": 0,
  "metadata": {
    "colab": {
      "name": "Copy of \"Groceries\" Exercise- Arty Baker",
      "provenance": [],
      "collapsed_sections": [
        "eDLu9Zvgfuvq"
      ],
      "include_colab_link": true
    },
    "kernelspec": {
      "name": "python3",
      "display_name": "Python 3"
    }
  },
  "cells": [
    {
      "cell_type": "markdown",
      "metadata": {
        "id": "view-in-github",
        "colab_type": "text"
      },
      "source": [
        "<a href=\"https://colab.research.google.com/github/ahoward1423/My_Notebooks/blob/main/Groceries%20Exercise.ipynb\" target=\"_parent\"><img src=\"https://colab.research.google.com/assets/colab-badge.svg\" alt=\"Open In Colab\"/></a>"
      ]
    },
    {
      "cell_type": "markdown",
      "metadata": {
        "id": "qO82jWpUzFYe"
      },
      "source": [
        "## References\n",
        "\n",
        "  + [Lists](https://github.com/prof-rossetti/intro-to-python/blob/master/notes/python/datatypes/lists.md)\n",
        "  + [Dictionaries](https://github.com/prof-rossetti/intro-to-python/blob/master/notes/python/datatypes/dictionaries.md)\n",
        "  + [List Comprehensions](https://docs.python.org/3/tutorial/datastructures.html?#list-comprehensions)"
      ]
    },
    {
      "cell_type": "markdown",
      "metadata": {
        "id": "cj2a-V0qfs8X"
      },
      "source": [
        "# Instructions\n",
        "\n",
        "Make a copy of this notebook so you can edit and save your own version of it. Do the work in your copy of the notebook. \n",
        "\n",
        "The setup cell provides a Python variable called `products` and a function called `to_usd`.\n",
        "\n",
        "Write Python code in the cells below to transform the provided `products` variable into the desired information outputs."
      ]
    },
    {
      "cell_type": "markdown",
      "metadata": {
        "id": "eDLu9Zvgfuvq"
      },
      "source": [
        "# Setup"
      ]
    },
    {
      "cell_type": "code",
      "metadata": {
        "id": "bMCg7sm9UuKL"
      },
      "source": [
        "#\n",
        "# SETUP CELL\n",
        "#\n",
        "\n",
        "def to_usd(my_price):\n",
        "    \"\"\"\n",
        "    Converts a numeric value to usd-formatted string, for printing and display purposes.\n",
        "    \n",
        "    Param: my_price (int or float) like 4000.444444\n",
        "    \n",
        "    Example: to_usd(4000.444444)\n",
        "    \n",
        "    Returns: $4,000.44\n",
        "    \"\"\"\n",
        "    return f\"${my_price:,.2f}\" #> $12,000.71\n",
        "\n",
        "products = [\n",
        "    {\"id\":1, \"name\": \"Chocolate Sandwich Cookies\", \"department\": \"snacks\", \"aisle\": \"cookies cakes\", \"price\": 3.50},\n",
        "    {\"id\":2, \"name\": \"All-Seasons Salt\", \"department\": \"pantry\", \"aisle\": \"spices seasonings\", \"price\": 4.99},\n",
        "    {\"id\":3, \"name\": \"Robust Golden Unsweetened Oolong Tea\", \"department\": \"beverages\", \"aisle\": \"tea\", \"price\": 2.49},\n",
        "    {\"id\":4, \"name\": \"Smart Ones Classic Favorites Mini Rigatoni With Vodka Cream Sauce\", \"department\": \"frozen\", \"aisle\": \"frozen meals\", \"price\": 6.99},\n",
        "    {\"id\":5, \"name\": \"Green Chile Anytime Sauce\", \"department\": \"pantry\", \"aisle\": \"marinades meat preparation\", \"price\": 7.99},\n",
        "    {\"id\":6, \"name\": \"Dry Nose Oil\", \"department\": \"personal care\", \"aisle\": \"cold flu allergy\", \"price\": 21.99},\n",
        "    {\"id\":7, \"name\": \"Pure Coconut Water With Orange\", \"department\": \"beverages\", \"aisle\": \"juice nectars\", \"price\": 3.50},\n",
        "    {\"id\":8, \"name\": \"Cut Russet Potatoes Steam N' Mash\", \"department\": \"frozen\", \"aisle\": \"frozen produce\", \"price\": 4.25},\n",
        "    {\"id\":9, \"name\": \"Light Strawberry Blueberry Yogurt\", \"department\": \"dairy eggs\", \"aisle\": \"yogurt\", \"price\": 6.50},\n",
        "    {\"id\":10, \"name\": \"Sparkling Orange Juice & Prickly Pear Beverage\", \"department\": \"beverages\", \"aisle\": \"water seltzer sparkling water\", \"price\": 2.99},\n",
        "    {\"id\":11, \"name\": \"Peach Mango Juice\", \"department\": \"beverages\", \"aisle\": \"refrigerated\", \"price\": 1.99},\n",
        "    {\"id\":12, \"name\": \"Chocolate Fudge Layer Cake\", \"department\": \"frozen\", \"aisle\": \"frozen dessert\", \"price\": 18.50},\n",
        "    {\"id\":13, \"name\": \"Saline Nasal Mist\", \"department\": \"personal care\", \"aisle\": \"cold flu allergy\", \"price\": 16.00},\n",
        "    {\"id\":14, \"name\": \"Fresh Scent Dishwasher Cleaner\", \"department\": \"household\", \"aisle\": \"dish detergents\", \"price\": 4.99},\n",
        "    {\"id\":15, \"name\": \"Overnight Diapers Size 6\", \"department\": \"babies\", \"aisle\": \"diapers wipes\", \"price\": 25.50},\n",
        "    {\"id\":16, \"name\": \"Mint Chocolate Flavored Syrup\", \"department\": \"snacks\", \"aisle\": \"ice cream toppings\", \"price\": 4.50},\n",
        "    {\"id\":17, \"name\": \"Rendered Duck Fat\", \"department\": \"meat seafood\", \"aisle\": \"poultry counter\", \"price\": 9.99},\n",
        "    {\"id\":18, \"name\": \"Pizza for One Suprema Frozen Pizza\", \"department\": \"frozen\", \"aisle\": \"frozen pizza\", \"price\": 12.50},\n",
        "    {\"id\":19, \"name\": \"Gluten Free Quinoa Three Cheese & Mushroom Blend\", \"department\": \"dry goods pasta\", \"aisle\": \"grains rice dried goods\", \"price\": 3.99},\n",
        "    {\"id\":20, \"name\": \"Pomegranate Cranberry & Aloe Vera Enrich Drink\", \"department\": \"beverages\", \"aisle\": \"juice nectars\", \"price\": 4.25}\n",
        "] # based on data from Instacart: https://www.instacart.com/datasets/grocery-shopping-2017\n"
      ],
      "execution_count": null,
      "outputs": []
    },
    {
      "cell_type": "code",
      "metadata": {
        "id": "QbTs7ScTnsjJ",
        "colab": {
          "base_uri": "https://localhost:8080/"
        },
        "outputId": "fb751fc7-4f53-4a99-ee4a-a01ad9d1809c"
      },
      "source": [
        "# testing the setup process:\n",
        "print(products)\n",
        "print(to_usd(12345.6789))"
      ],
      "execution_count": null,
      "outputs": [
        {
          "output_type": "stream",
          "name": "stdout",
          "text": [
            "[{'id': 1, 'name': 'Chocolate Sandwich Cookies', 'department': 'snacks', 'aisle': 'cookies cakes', 'price': 3.5}, {'id': 2, 'name': 'All-Seasons Salt', 'department': 'pantry', 'aisle': 'spices seasonings', 'price': 4.99}, {'id': 3, 'name': 'Robust Golden Unsweetened Oolong Tea', 'department': 'beverages', 'aisle': 'tea', 'price': 2.49}, {'id': 4, 'name': 'Smart Ones Classic Favorites Mini Rigatoni With Vodka Cream Sauce', 'department': 'frozen', 'aisle': 'frozen meals', 'price': 6.99}, {'id': 5, 'name': 'Green Chile Anytime Sauce', 'department': 'pantry', 'aisle': 'marinades meat preparation', 'price': 7.99}, {'id': 6, 'name': 'Dry Nose Oil', 'department': 'personal care', 'aisle': 'cold flu allergy', 'price': 21.99}, {'id': 9, 'name': 'Light Strawberry Blueberry Yogurt', 'department': 'dairy eggs', 'aisle': 'yogurt', 'price': 6.5}, {'id': 10, 'name': 'Sparkling Orange Juice & Prickly Pear Beverage', 'department': 'beverages', 'aisle': 'water seltzer sparkling water', 'price': 2.99}, {'id': 11, 'name': 'Peach Mango Juice', 'department': 'beverages', 'aisle': 'refrigerated', 'price': 1.99}, {'id': 12, 'name': 'Chocolate Fudge Layer Cake', 'department': 'frozen', 'aisle': 'frozen dessert', 'price': 18.5}, {'id': 13, 'name': 'Saline Nasal Mist', 'department': 'personal care', 'aisle': 'cold flu allergy', 'price': 16.0}, {'id': 14, 'name': 'Fresh Scent Dishwasher Cleaner', 'department': 'household', 'aisle': 'dish detergents', 'price': 4.99}, {'id': 15, 'name': 'Overnight Diapers Size 6', 'department': 'babies', 'aisle': 'diapers wipes', 'price': 25.5}, {'id': 16, 'name': 'Mint Chocolate Flavored Syrup', 'department': 'snacks', 'aisle': 'ice cream toppings', 'price': 4.5}, {'id': 17, 'name': 'Rendered Duck Fat', 'department': 'meat seafood', 'aisle': 'poultry counter', 'price': 9.99}, {'id': 18, 'name': 'Pizza for One Suprema Frozen Pizza', 'department': 'frozen', 'aisle': 'frozen pizza', 'price': 12.5}, {'id': 19, 'name': 'Gluten Free Quinoa Three Cheese & Mushroom Blend', 'department': 'dry goods pasta', 'aisle': 'grains rice dried goods', 'price': 3.99}, {'id': 20, 'name': 'Pomegranate Cranberry & Aloe Vera Enrich Drink', 'department': 'beverages', 'aisle': 'juice nectars', 'price': 4.25}]\n",
            "$12,345.68\n"
          ]
        }
      ]
    },
    {
      "cell_type": "code",
      "metadata": {
        "colab": {
          "base_uri": "https://localhost:8080/"
        },
        "id": "TmcWBi2AhB0i",
        "outputId": "85092cb3-d99a-4792-96a3-176d25bbe3da"
      },
      "source": [
        "print(type(products)) #> list\n",
        "\n",
        "print(products[0])\n",
        "print(type(products[0])) #> dictionary\n",
        "\n",
        "print(products[0].keys())"
      ],
      "execution_count": null,
      "outputs": [
        {
          "output_type": "stream",
          "name": "stdout",
          "text": [
            "<class 'list'>\n",
            "{'id': 1, 'name': 'Chocolate Sandwich Cookies', 'department': 'snacks', 'aisle': 'cookies cakes', 'price': 3.5}\n",
            "<class 'dict'>\n",
            "dict_keys(['id', 'name', 'department', 'aisle', 'price'])\n"
          ]
        }
      ]
    },
    {
      "cell_type": "markdown",
      "metadata": {
        "id": "da-yL2tWU6R8"
      },
      "source": [
        "# Part 1\n",
        "\n",
        "Write python code which references the `products` variable to reproduce the following output, representing a human-friendly list of products:\n",
        "\n",
        "```\n",
        "--------------\n",
        "THERE ARE 20 PRODUCTS:\n",
        "--------------\n",
        " + All-Seasons Salt ($4.99)\n",
        " + Chocolate Fudge Layer Cake ($18.50)\n",
        " + Chocolate Sandwich Cookies ($3.50)\n",
        " + Cut Russet Potatoes Steam N' Mash ($4.25)\n",
        " + Dry Nose Oil ($21.99)\n",
        " + Fresh Scent Dishwasher Cleaner ($4.99)\n",
        " + Gluten Free Quinoa Three Cheese & Mushroom Blend ($3.99)\n",
        " + Green Chile Anytime Sauce ($7.99)\n",
        " + Light Strawberry Blueberry Yogurt ($6.50)\n",
        " + Mint Chocolate Flavored Syrup ($4.50)\n",
        " + Overnight Diapers Size 6 ($25.50)\n",
        " + Peach Mango Juice ($1.99)\n",
        " + Pizza For One Suprema Frozen Pizza ($12.50)\n",
        " + Pomegranate Cranberry & Aloe Vera Enrich Drink ($4.25)\n",
        " + Pure Coconut Water With Orange ($3.50)\n",
        " + Rendered Duck Fat ($9.99)\n",
        " + Robust Golden Unsweetened Oolong Tea ($2.49)\n",
        " + Saline Nasal Mist ($16.00)\n",
        " + Smart Ones Classic Favorites Mini Rigatoni With Vodka Cream Sauce ($6.99)\n",
        " + Sparkling Orange Juice & Prickly Pear Beverage ($2.99)\n",
        " ```\n"
      ]
    },
    {
      "cell_type": "code",
      "metadata": {
        "id": "H5U_nR6cgEon",
        "colab": {
          "base_uri": "https://localhost:8080/"
        },
        "outputId": "f44cbdfc-8626-414f-cb36-9d49edf66f18"
      },
      "source": [
        "#\n",
        "# PART 1 CODE HERE!\n",
        "#\n",
        "\n",
        "from operator import itemgetter\n",
        "\n",
        "print(\"--------------\")\n",
        "# print(f\"There are {len(products)} products:\")\n",
        "print(\"There are\", len(products), \"products:\")\n",
        "print(\"--------------\")\n",
        "\n",
        "sorted_products = sorted(products, key=itemgetter(\"name\"))\n",
        "\n",
        "\n",
        "for p in sorted_products:\n",
        "  # print(\"hello\")\n",
        "  print(\"-------\")\n",
        "  # print(p)\n",
        "  # print(type(p))\n",
        "  # print(p[\"name\"], p[\"price\"])\n",
        "  print(p[\"name\"], to_usd(p[\"price\"]))\n",
        "\n"
      ],
      "execution_count": null,
      "outputs": [
        {
          "output_type": "stream",
          "name": "stdout",
          "text": [
            "--------------\n",
            "There are 20 products:\n",
            "--------------\n",
            "-------\n",
            "All-Seasons Salt $4.99\n",
            "-------\n",
            "Chocolate Fudge Layer Cake $18.50\n",
            "-------\n",
            "Chocolate Sandwich Cookies $3.50\n",
            "-------\n",
            "Cut Russet Potatoes Steam N' Mash $4.25\n",
            "-------\n",
            "Dry Nose Oil $21.99\n",
            "-------\n",
            "Fresh Scent Dishwasher Cleaner $4.99\n",
            "-------\n",
            "Gluten Free Quinoa Three Cheese & Mushroom Blend $3.99\n",
            "-------\n",
            "Green Chile Anytime Sauce $7.99\n",
            "-------\n",
            "Light Strawberry Blueberry Yogurt $6.50\n",
            "-------\n",
            "Mint Chocolate Flavored Syrup $4.50\n",
            "-------\n",
            "Overnight Diapers Size 6 $25.50\n",
            "-------\n",
            "Peach Mango Juice $1.99\n",
            "-------\n",
            "Pizza for One Suprema Frozen Pizza $12.50\n",
            "-------\n",
            "Pomegranate Cranberry & Aloe Vera Enrich Drink $4.25\n",
            "-------\n",
            "Pure Coconut Water With Orange $3.50\n",
            "-------\n",
            "Rendered Duck Fat $9.99\n",
            "-------\n",
            "Robust Golden Unsweetened Oolong Tea $2.49\n",
            "-------\n",
            "Saline Nasal Mist $16.00\n",
            "-------\n",
            "Smart Ones Classic Favorites Mini Rigatoni With Vodka Cream Sauce $6.99\n",
            "-------\n",
            "Sparkling Orange Juice & Prickly Pear Beverage $2.99\n"
          ]
        }
      ]
    },
    {
      "cell_type": "markdown",
      "metadata": {
        "id": "HJiIxGI7Vw20"
      },
      "source": [
        "# Part 2\n",
        "\n",
        "Write python code which references the `products` variable to reproduce the following output, representing a human-friendly list of departments:\n"
      ]
    },
    {
      "cell_type": "markdown",
      "metadata": {
        "id": "PHGh4bUYVgW2"
      },
      "source": [
        "\n",
        "\n",
        "\n",
        "```\n",
        "--------------\n",
        "THERE ARE 10 DEPARTMENTS:\n",
        "--------------\n",
        " + Babies (1 product)\n",
        " + Beverages (5 products)\n",
        " + Dairy Eggs (1 product)\n",
        " + Dry Goods Pasta (1 product)\n",
        " + Frozen (4 products)\n",
        " + Household (1 product)\n",
        " + Meat Seafood (1 product)\n",
        " + Pantry (2 products)\n",
        " + Personal Care (2 products)\n",
        " + Snacks (2 products)\n",
        " ```"
      ]
    },
    {
      "cell_type": "code",
      "metadata": {
        "id": "snjnvaT-gCVj"
      },
      "source": [
        "#\n",
        "# PART 2 CODE HERE!\n",
        "#\n",
        "\n",
        "\n",
        "\n",
        "\n"
      ],
      "execution_count": null,
      "outputs": []
    }
  ]
}